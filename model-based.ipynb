{
 "cells": [
  {
   "cell_type": "code",
   "execution_count": 5,
   "metadata": {},
   "outputs": [],
   "source": [
    "import matplotlib.pyplot as plt\n",
    "import numpy as np\n",
    "from copy import deepcopy\n",
    "import pandas as pd\n",
    "import time, sys, os"
   ]
  },
  {
   "cell_type": "markdown",
   "metadata": {},
   "source": [
    "# short decision tree"
   ]
  },
  {
   "cell_type": "code",
   "execution_count": 11,
   "metadata": {},
   "outputs": [
    {
     "name": "stdout",
     "output_type": "stream",
     "text": [
      "train mse: 15.38\n"
     ]
    },
    {
     "data": {
      "image/png": "[encoded data removed]",
      "text/plain": [
       "<Figure size 432x288 with 1 Axes>"
      ]
     },
     "metadata": {
      "needs_background": "light"
     },
     "output_type": "display_data"
    }
   ],
   "source": [
    "from sklearn.tree import DecisionTreeRegressor, plot_tree\n",
    "\n",
    "# load in same data\n",
    "boston_data = pd.read_csv(\"data/boston.csv\", index_col=0)\n",
    "y = boston_data.medv.values\n",
    "X = boston_data.drop(\"medv\", axis=1)\n",
    "features = X.columns\n",
    "X = X.values\n",
    "\n",
    "# specify a decision tree with a maximum depth\n",
    "dt = DecisionTreeRegressor(max_depth=3)\n",
    "dt.fit(X, y)\n",
    "\n",
    "# calculat mse on the training data\n",
    "preds = dt.predict(X)\n",
    "print(f'train mse: {np.mean(np.square(preds-y)):0.2f}')\n",
    "\n",
    "plot_tree(dt)\n",
    "plt.savefig('tree.pdf')\n",
    "plt.show()"
   ]
  },
  {
   "cell_type": "markdown",
   "metadata": {},
   "source": [
    "# integer linear models"
   ]
  },
  {
   "cell_type": "code",
   "execution_count": 11,
   "metadata": {},
   "outputs": [
    {
     "name": "stdout",
     "output_type": "stream",
     "text": [
      "0\tmse:  2.09\t[ 1  1 -1  0  0  0  0  0  0  0]\n",
      "0.01\tmse:  2.09\t[ 1  1 -1  0  0  0  0  0  0  0]\n",
      "0.05\tmse:  1.02\t[ 1  2 -1  0  0  0  0  0  0  0]\n",
      "0.1\tmse:  1.02\t[ 1  2 -1  0  0  0  0  0  0  0]\n",
      "1\tmse:  3.08\t[ 0  1 -1  0  0  0  0  0  0  0]\n",
      "2\tmse:  1.90\t[ 0  2 -1  0  0  0  0  0  0  0]\n"
     ]
    }
   ],
   "source": [
    "def fit_integer_linear_model(X, y, lambda_reg=0):\n",
    "    import cvxpy # package for optimization\n",
    "    '''fit a linear model with integer coefficient and L1 regularizaiton'''\n",
    "    \n",
    "    # declare the integer-valued optimization variable\n",
    "    w = cvxpy.Variable(X.shape[1], integer=True)\n",
    "\n",
    "    # set up the minimization problem\n",
    "    obj = cvxpy.Minimize(cvxpy.norm(X * w - y, 2) + lambda_reg * cvxpy.norm(w, 1))\n",
    "    prob = cvxpy.Problem(obj)\n",
    "\n",
    "    # solve the problem using an appropriate solver\n",
    "    sol = prob.solve(solver = 'ECOS_BB')\n",
    "\n",
    "    # the optimal value\n",
    "    return w.value.astype(np.int)\n",
    "\n",
    "\n",
    "np.random.seed(123)\n",
    "\n",
    "# generate X and y\n",
    "n, p = 1000, 10\n",
    "X = np.random.randn(n, p)\n",
    "y = X[:, 0] + 2 * X[:, 1] - 1 * X[:, 2] + np.random.randn(n)\n",
    "\n",
    "# fit linear models with different regularization parameters\n",
    "for lambda_reg in [0, 1e-2, 5e-2, 1e-1, 1, 2]:\n",
    "    w = fit_integer_linear_model(X, y, lambda_reg)\n",
    "    mse = np.mean(np.square(y - X @ w))\n",
    "    print(f'{lambda_reg}\\tmse: {mse: 0.2f}\\t{w}')"
   ]
  },
  {
   "cell_type": "markdown",
   "metadata": {},
   "source": [
    "# rulefit\n",
    "- installed with: `pip install git+git://github.com/christophM/rulefit.git`\n",
    "- some docs: `https://github.com/christophM/rulefit`\n",
    "- original paper: `http://statweb.stanford.edu/~jhf/ftp/RuleFit.pdf`"
   ]
  },
  {
   "cell_type": "code",
   "execution_count": 12,
   "metadata": {},
   "outputs": [
    {
     "name": "stderr",
     "output_type": "stream",
     "text": [
      "/accounts/projects/vision/.local/lib/python3.7/site-packages/sklearn/linear_model/coordinate_descent.py:475: ConvergenceWarning: Objective did not converge. You might want to increase the number of iterations. Duality gap: 2.1380639069759013, tolerance: 2.11691609495549\n",
      "  positive)\n"
     ]
    },
    {
     "name": "stdout",
     "output_type": "stream",
     "text": [
      "train mse: 1.45\n"
     ]
    },
    {
     "name": "stderr",
     "output_type": "stream",
     "text": [
      "/accounts/projects/vision/.local/lib/python3.7/site-packages/sklearn/linear_model/coordinate_descent.py:475: ConvergenceWarning: Objective did not converge. You might want to increase the number of iterations. Duality gap: 71.6116729084955, tolerance: 4.2716295415019765\n",
      "  positive)\n"
     ]
    }
   ],
   "source": [
    "from rulefit import RuleFit\n",
    "\n",
    "# load some data\n",
    "boston_data = pd.read_csv(\"data/boston.csv\", index_col=0)\n",
    "y = boston_data.medv.values\n",
    "X = boston_data.drop(\"medv\", axis=1)\n",
    "features = X.columns\n",
    "X = X.values\n",
    "\n",
    "# fit a rulefit model\n",
    "rf = RuleFit()\n",
    "rf.fit(X, y, feature_names=features)\n",
    "\n",
    "# calculate mse on the training data\n",
    "preds = rf.predict(X)\n",
    "print(f'train mse: {np.mean(np.square(preds-y)):0.2f}')"
   ]
  },
  {
   "cell_type": "markdown",
   "metadata": {},
   "source": [
    "now, let's inspect the rules"
   ]
  },
  {
   "cell_type": "code",
   "execution_count": 17,
   "metadata": {},
   "outputs": [
    {
     "data": {
      "text/html": [
       "<style  type=\"text/css\" >\n",
       "    #T_e8e5fb00_a22a_11e9_a8ab_002590e83e0arow0_col1 {\n",
       "            background-color:  #4ac16d;\n",
       "            color:  #000000;\n",
       "        }    #T_e8e5fb00_a22a_11e9_a8ab_002590e83e0arow0_col2 {\n",
       "            background-color:  #fde725;\n",
       "            color:  #000000;\n",
       "        }    #T_e8e5fb00_a22a_11e9_a8ab_002590e83e0arow1_col1 {\n",
       "            background-color:  #3bbb75;\n",
       "            color:  #000000;\n",
       "        }    #T_e8e5fb00_a22a_11e9_a8ab_002590e83e0arow1_col2 {\n",
       "            background-color:  #fde725;\n",
       "            color:  #000000;\n",
       "        }    #T_e8e5fb00_a22a_11e9_a8ab_002590e83e0arow2_col1 {\n",
       "            background-color:  #5cc863;\n",
       "            color:  #000000;\n",
       "        }    #T_e8e5fb00_a22a_11e9_a8ab_002590e83e0arow2_col2 {\n",
       "            background-color:  #2db27d;\n",
       "            color:  #000000;\n",
       "        }    #T_e8e5fb00_a22a_11e9_a8ab_002590e83e0arow3_col1 {\n",
       "            background-color:  #fde725;\n",
       "            color:  #000000;\n",
       "        }    #T_e8e5fb00_a22a_11e9_a8ab_002590e83e0arow3_col2 {\n",
       "            background-color:  #440154;\n",
       "            color:  #f1f1f1;\n",
       "        }    #T_e8e5fb00_a22a_11e9_a8ab_002590e83e0arow4_col1 {\n",
       "            background-color:  #440154;\n",
       "            color:  #f1f1f1;\n",
       "        }    #T_e8e5fb00_a22a_11e9_a8ab_002590e83e0arow4_col2 {\n",
       "            background-color:  #440154;\n",
       "            color:  #f1f1f1;\n",
       "        }</style><table id=\"T_e8e5fb00_a22a_11e9_a8ab_002590e83e0a\" ><thead>    <tr>        <th class=\"blank level0\" ></th>        <th class=\"col_heading level0 col0\" >rule</th>        <th class=\"col_heading level0 col1\" >coef</th>        <th class=\"col_heading level0 col2\" >support</th>    </tr></thead><tbody>\n",
       "                <tr>\n",
       "                        <th id=\"T_e8e5fb00_a22a_11e9_a8ab_002590e83e0alevel0_row0\" class=\"row_heading level0 row0\" >1</th>\n",
       "                        <td id=\"T_e8e5fb00_a22a_11e9_a8ab_002590e83e0arow0_col0\" class=\"data row0 col0\" >zn</td>\n",
       "                        <td id=\"T_e8e5fb00_a22a_11e9_a8ab_002590e83e0arow0_col1\" class=\"data row0 col1\" >0.00336756</td>\n",
       "                        <td id=\"T_e8e5fb00_a22a_11e9_a8ab_002590e83e0arow0_col2\" class=\"data row0 col2\" >1</td>\n",
       "            </tr>\n",
       "            <tr>\n",
       "                        <th id=\"T_e8e5fb00_a22a_11e9_a8ab_002590e83e0alevel0_row1\" class=\"row_heading level0 row1\" >6</th>\n",
       "                        <td id=\"T_e8e5fb00_a22a_11e9_a8ab_002590e83e0arow1_col0\" class=\"data row1 col0\" >age</td>\n",
       "                        <td id=\"T_e8e5fb00_a22a_11e9_a8ab_002590e83e0arow1_col1\" class=\"data row1 col1\" >-0.0303105</td>\n",
       "                        <td id=\"T_e8e5fb00_a22a_11e9_a8ab_002590e83e0arow1_col2\" class=\"data row1 col2\" >1</td>\n",
       "            </tr>\n",
       "            <tr>\n",
       "                        <th id=\"T_e8e5fb00_a22a_11e9_a8ab_002590e83e0alevel0_row2\" class=\"row_heading level0 row2\" >1161</th>\n",
       "                        <td id=\"T_e8e5fb00_a22a_11e9_a8ab_002590e83e0arow2_col0\" class=\"data row2 col0\" >crim <= 24.719950675964355</td>\n",
       "                        <td id=\"T_e8e5fb00_a22a_11e9_a8ab_002590e83e0arow2_col1\" class=\"data row2 col1\" >0.0383167</td>\n",
       "                        <td id=\"T_e8e5fb00_a22a_11e9_a8ab_002590e83e0arow2_col2\" class=\"data row2 col2\" >0.978632</td>\n",
       "            </tr>\n",
       "            <tr>\n",
       "                        <th id=\"T_e8e5fb00_a22a_11e9_a8ab_002590e83e0alevel0_row3\" class=\"row_heading level0 row3\" >1469</th>\n",
       "                        <td id=\"T_e8e5fb00_a22a_11e9_a8ab_002590e83e0arow3_col0\" class=\"data row3 col0\" >rm > 4.990999937057495 & rm <= 8.742000102996826 & lstat <= 26.729999542236328</td>\n",
       "                        <td id=\"T_e8e5fb00_a22a_11e9_a8ab_002590e83e0arow3_col1\" class=\"data row3 col1\" >0.306809</td>\n",
       "                        <td id=\"T_e8e5fb00_a22a_11e9_a8ab_002590e83e0arow3_col2\" class=\"data row3 col2\" >0.940171</td>\n",
       "            </tr>\n",
       "            <tr>\n",
       "                        <th id=\"T_e8e5fb00_a22a_11e9_a8ab_002590e83e0alevel0_row4\" class=\"row_heading level0 row4\" >996</th>\n",
       "                        <td id=\"T_e8e5fb00_a22a_11e9_a8ab_002590e83e0arow4_col0\" class=\"data row4 col0\" >rm <= 7.479499816894531 & tax > 204.5</td>\n",
       "                        <td id=\"T_e8e5fb00_a22a_11e9_a8ab_002590e83e0arow4_col1\" class=\"data row4 col1\" >-0.75093</td>\n",
       "                        <td id=\"T_e8e5fb00_a22a_11e9_a8ab_002590e83e0arow4_col2\" class=\"data row4 col2\" >0.940171</td>\n",
       "            </tr>\n",
       "    </tbody></table>"
      ],
      "text/plain": [
       "<pandas.io.formats.style.Styler at 0x7efd3843f550>"
      ]
     },
     "execution_count": 17,
     "metadata": {},
     "output_type": "execute_result"
    }
   ],
   "source": [
    "rules = rf.get_rules()\n",
    "\n",
    "rules = rules[rules.coef != 0].sort_values(\"support\", ascending=False)\n",
    "\n",
    "# 'rule' is how the feature is constructed\n",
    "# 'coef' is its weight in the final linear model\n",
    "# 'support' is how many points it applies to\n",
    "rules[['rule', 'coef', 'support']].head().style.background_gradient(cmap='viridis')"
   ]
  },
  {
   "cell_type": "markdown",
   "metadata": {},
   "source": [
    "# scalable bayesian rule lists (in C)\n",
    "- docs at `https://github.com/myaooo/pysbrl`\n",
    "- requires installing some `c` packages (ex. instructions [here](https://coral.ise.lehigh.edu/jild13/2016/07/11/hello/))\n",
    "- note: input format is pretty strange (it is sensible in [R](https://rdrr.io/cran/sbrl/man/sbrl.html))\n",
    "- only works with categorical variables (continuous must be discretized somehow)\n",
    "- there is another implementation in the [skater](https://oracle.github.io/Skater/install.html) package as well"
   ]
  },
  {
   "cell_type": "code",
   "execution_count": null,
   "metadata": {},
   "outputs": [],
   "source": []
  },
  {
   "cell_type": "code",
   "execution_count": 25,
   "metadata": {},
   "outputs": [
    {
     "name": "stdout",
     "output_type": "stream",
     "text": [
      "if {c4=o,c5=o,c6=o}: 0.04\n",
      "elif {c1=x,c7=x}: 0.86\n",
      "elif {c5=x,c7=o,c9=o}: 0.58\n",
      "elif {c1=x,c2=x,c3=x}: 0.98\n",
      "elif {c5=o,c9=o}: 0.02\n",
      "elif {c1=o,c2=o,c3=o}: 0.04\n",
      "elif {c3=x,c4=b,c9=x}: 0.93\n",
      "elif {c7=o,c9=o}: 0.08\n",
      "elif {c1=x,c2=b,c3=x}: 0.88\n",
      "elif {c5=o,c7=o}: 0.17\n",
      "elif {c6=o,c9=o}: 0.43\n",
      "elif {c4=x,c5=o}: 0.33\n",
      "elif {c1=o,c4=o,c7=o}: 0.05\n",
      " default: 0.98\n"
     ]
    }
   ],
   "source": [
    "# this example has categorical variables c1, c2, ... that take on values 'o', 'x', 'b'\n",
    "import pysbrl\n",
    "\n",
    "rule_ids, outputs, rule_strings = pysbrl.train_sbrl(\"data/train.out\", \n",
    "                                                    \"data/train.label\", \n",
    "                                                    20.0, eta=2.0, max_iters=2000)\n",
    "\n",
    "class_num = 1\n",
    "for i, rule_id in enumerate(rule_ids):\n",
    "    prefix = 'if' if i == 0 else 'elif' if i < len(rule_ids) -1 else ''\n",
    "    print(prefix, rule_strings[rule_id] + f': {outputs[i, class_num]:0.2f}')"
   ]
  },
  {
   "cell_type": "markdown",
   "metadata": {},
   "source": [
    "# optimal classification tree\n",
    "- docs here: `https://github.com/pan5431333/pyoptree`\n",
    "- note: this implementation is still slightly unstable, and requires either `cplex` or `gurobi` to be installed"
   ]
  },
  {
   "cell_type": "code",
   "execution_count": null,
   "metadata": {},
   "outputs": [],
   "source": [
    "from pyoptree.optree import OptimalHyperTreeModel, OptimalTreeModel\n",
    "\n",
    "data = pd.DataFrame({\n",
    "    \"index\": ['A', 'C', 'D', 'E', 'F'],\n",
    "    \"x1\": [1, 2, 2, 2, 3],\n",
    "    \"x2\": [1, 2, 1, 0, 1],\n",
    "    \"y\": [1, 1, 0, 0, 0]\n",
    "})\n",
    "test_data = pd.DataFrame({\n",
    "    \"index\": ['A', 'B', 'C', 'D', 'E', 'F', 'G'],\n",
    "    \"x1\": [1, 1, 2, 2, 2, 3, 3],\n",
    "    \"x2\": [1, 2, 2, 1, 0, 1, 0],\n",
    "    \"y\": [1, 1, 1, 0, 0, 0, 0]\n",
    "})\n",
    "model = OptimalHyperTreeModel([\"x1\", \"x2\"], \"y\", tree_depth=2, N_min=1, alpha=0.1, solver_name=\"cplex\")\n",
    "model.train(data, train_method=\"mio\")\n",
    "\n",
    "print(model.predict(test_data))"
   ]
  }
 ],
 "metadata": {
  "kernelspec": {
   "display_name": "Python 3",
   "language": "python",
   "name": "python3"
  },
  "language_info": {
   "codemirror_mode": {
    "name": "ipython",
    "version": 3
   },
   "file_extension": ".py",
   "mimetype": "text/x-python",
   "name": "python",
   "nbconvert_exporter": "python",
   "pygments_lexer": "ipython3",
   "version": "3.7.0"
  }
 },
 "nbformat": 4,
 "nbformat_minor": 2
}
