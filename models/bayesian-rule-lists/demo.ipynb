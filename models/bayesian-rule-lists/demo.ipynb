{
 "cells": [
  {
   "cell_type": "code",
   "execution_count": 13,
   "metadata": {},
   "outputs": [
    {
     "name": "stdout",
     "output_type": "stream",
     "text": [
      "The autoreload extension is already loaded. To reload it, use:\n",
      "  %reload_ext autoreload\n"
     ]
    }
   ],
   "source": [
    "%load_ext autoreload\n",
    "%autoreload 2\n",
    "\n",
    "import sys\n",
    "sys.path.append('Discretization')\n",
    "# sys.path.append('LethamBrl')\n",
    "# import Entropy\n",
    "from RuleListClassifier import *\n",
    "from sklearn.datasets.mldata import fetch_mldata\n",
    "from sklearn.datasets import fetch_openml\n",
    "from sklearn.model_selection import train_test_split\n",
    "from sklearn.ensemble import RandomForestClassifier\n",
    "\n",
    "\n",
    "feature_labels = [\"#Pregnant\",\"Glucose concentration test\",\"Blood pressure(mmHg)\",\"Triceps skin fold thickness(mm)\",\n",
    "                  \"2-Hour serum insulin (mu U/ml)\",\"Body mass index\",\"Diabetes pedigree function\",\"Age (years)\"]"
   ]
  },
  {
   "cell_type": "code",
   "execution_count": 57,
   "metadata": {},
   "outputs": [
    {
     "name": "stdout",
     "output_type": "stream",
     "text": [
      "training...\n",
      "RuleListClassifier Accuracy: 0.796875 Learned interpretable model:\n",
      " Trained RuleListClassifier for detecting diabetes\n",
      "==================================================\n",
      "IF Glucose concentration test : 143.5_to_inf THEN probability of diabetes: 73.5% (60.4%-84.7%)\n",
      "ELSE IF Body mass index : -inf_to_29.6 THEN probability of diabetes: 9.7% (3.7%-18.1%)\n",
      "ELSE IF Glucose concentration test : 143.5_to_inf AND Body mass index : 29.6_to_inf THEN probability of diabetes: 50.0% (2.5%-97.5%)\n",
      "ELSE IF 2-Hour serum insulin (mu U/ml) : -inf_to_142.5 THEN probability of diabetes: 25.4% (15.8%-36.4%)\n",
      "ELSE IF Age (years) : -inf_to_28.5 THEN probability of diabetes: 50.0% (23.4%-76.6%)\n",
      "ELSE probability of diabetes: 83.3% (58.7%-97.7%)\n",
      "=================================================\n",
      "\n",
      "RandomForestClassifier Accuracy: 0.7291666666666666\n"
     ]
    }
   ],
   "source": [
    "np.random.seed(13)\n",
    "data = fetch_openml(\"diabetes\") # get dataset\n",
    "# data = fetch_mldata(\"diabetes\") # get dataset\n",
    "\n",
    "y = (data.target == 'tested_positive').astype(np.int)\n",
    "# y = (data.target + 1) / 2 # target labels (0 or 1)\n",
    "Xtrain, Xtest, ytrain, ytest = train_test_split(data.data, y) # split\n",
    "\n",
    "# train classifier (allow more iterations for better accuracy; use BigDataRuleListClassifier for large datasets)\n",
    "print('training...')\n",
    "model = RuleListClassifier(max_iter=100, class1label=\"diabetes\", verbose=False) # max_iter = 100000\n",
    "model.fit(Xtest, ytest, feature_labels=feature_labels)\n",
    "# model.fit(Xtrain, ytrain, feature_labels=feature_labels)\n",
    "\n",
    "print(\"RuleListClassifier Accuracy:\", model.score(Xtest, ytest), \"Learned interpretable model:\\n\", model)\n",
    "print(\"RandomForestClassifier Accuracy:\", RandomForestClassifier(n_estimators=10).fit(Xtrain, ytrain).score(Xtest, ytest))"
   ]
  },
  {
   "cell_type": "code",
   "execution_count": null,
   "metadata": {},
   "outputs": [],
   "source": [
    "\"\"\"\n",
    "**Output:**\n",
    "RuleListClassifier Accuracy: 0.796875 Learned interpretable model:\n",
    " Trained RuleListClassifier for detecting diabetes\n",
    "==================================================\n",
    "IF Glucose concentration test : 143.5_to_inf THEN probability of diabetes: 73.5% (60.4%-84.7%)\n",
    "ELSE IF Body mass index : -inf_to_29.6 THEN probability of diabetes: 9.7% (3.7%-18.1%)\n",
    "ELSE IF Glucose concentration test : 143.5_to_inf AND Body mass index : 29.6_to_inf THEN probability of diabetes: 50.0% (2.5%-97.5%)\n",
    "ELSE IF 2-Hour serum insulin (mu U/ml) : -inf_to_142.5 THEN probability of diabetes: 25.4% (15.8%-36.4%)\n",
    "ELSE IF Age (years) : -inf_to_28.5 THEN probability of diabetes: 50.0% (23.4%-76.6%)\n",
    "ELSE probability of diabetes: 83.3% (58.7%-97.7%)\n",
    "=================================================\n",
    "\n",
    "RandomForestClassifier Accuracy: 0.7291666666666666\n",
    "\"\"\""
   ]
  }
 ],
 "metadata": {
  "kernelspec": {
   "display_name": "Python 3",
   "language": "python",
   "name": "python3"
  },
  "language_info": {
   "codemirror_mode": {
    "name": "ipython",
    "version": 3
   },
   "file_extension": ".py",
   "mimetype": "text/x-python",
   "name": "python",
   "nbconvert_exporter": "python",
   "pygments_lexer": "ipython3",
   "version": "3.7.0"
  }
 },
 "nbformat": 4,
 "nbformat_minor": 2
}
