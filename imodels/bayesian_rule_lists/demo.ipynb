{
 "cells": [
  {
   "cell_type": "code",
   "execution_count": 1,
   "metadata": {},
   "outputs": [],
   "source": [
    "%load_ext autoreload\n",
    "%autoreload 2\n",
    "\n",
    "import sys\n",
    "sys.path.append('discretization')\n",
    "from RuleListClassifier import *\n",
    "from sklearn.datasets import fetch_openml\n",
    "from sklearn.model_selection import train_test_split\n",
    "from sklearn.ensemble import RandomForestClassifier\n",
    "\n",
    "\n",
    "feature_labels = [\"#Pregnant\",\"Glucose concentration test\",\"Blood pressure(mmHg)\",\"Triceps skin fold thickness(mm)\",\n",
    "                  \"2-Hour serum insulin (mu U/ml)\",\"Body mass index\",\"Diabetes pedigree function\",\"Age (years)\"]"
   ]
  },
  {
   "cell_type": "code",
   "execution_count": 2,
   "metadata": {},
   "outputs": [
    {
     "name": "stdout",
     "output_type": "stream",
     "text": [
      "training...\n",
      "RuleListClassifier Accuracy: 0.7239583333333334 Learned interpretable model:\n",
      " Trained RuleListClassifier for detecting diabetes\n",
      "==================================================\n",
      "IF Glucose concentration test : 157.5_to_inf THEN probability of diabetes: 81.9% (73.0%-89.4%)\n",
      "ELSE IF Body mass index : -inf_to_27.45 THEN probability of diabetes: 8.3% (4.4%-13.3%)\n",
      "ELSE IF #Pregnant : 6.5_to_inf THEN probability of diabetes: 57.1% (46.5%-67.5%)\n",
      "ELSE IF Glucose concentration test : 123.5_to_157.5 THEN probability of diabetes: 47.7% (37.4%-58.1%)\n",
      "ELSE IF Age (years) : -inf_to_28.5 THEN probability of diabetes: 11.6% (6.5%-17.8%)\n",
      "ELSE probability of diabetes: 29.4% (19.3%-40.7%)\n",
      "=================================================\n",
      "\n",
      "RandomForestClassifier Accuracy: 0.75\n"
     ]
    }
   ],
   "source": [
    "np.random.seed(13)\n",
    "data = fetch_openml(\"diabetes\") # get dataset\n",
    "y = (data.target == 'tested_positive').astype(np.int) # labels 0-1\n",
    "\n",
    "Xtrain, Xtest, ytrain, ytest = train_test_split(data.data, y) # split\n",
    "\n",
    "# train classifier (allow more iterations for better accuracy; use BigDataRuleListClassifier for large datasets)\n",
    "print('training...')\n",
    "model = RuleListClassifier(max_iter=10000, class1label=\"diabetes\", verbose=False)\n",
    "model.fit(Xtrain, ytrain, feature_labels=feature_labels)\n",
    "\n",
    "print(\"RuleListClassifier Accuracy:\", model.score(Xtest, ytest), \"Learned interpretable model:\\n\", model)\n",
    "print(\"RandomForestClassifier Accuracy:\", RandomForestClassifier(n_estimators=10).fit(Xtrain, ytrain).score(Xtest, ytest))"
   ]
  },
  {
   "cell_type": "raw",
   "metadata": {},
   "source": [
    "\"\"\"\n",
    "RuleListClassifier Accuracy: 0.7291666666666666 Learned interpretable model:\n",
    " Trained RuleListClassifier for detecting diabetes\n",
    "==================================================\n",
    "IF Glucose concentration test : 157.5_to_inf THEN probability of diabetes: 81.9% (73.0%-89.4%)\n",
    "ELSE IF Body mass index : -inf_to_27.45 THEN probability of diabetes: 8.3% (4.4%-13.3%)\n",
    "ELSE IF Glucose concentration test : 123.5_to_157.5 THEN probability of diabetes: 53.5% (44.9%-62.1%)\n",
    "ELSE IF Age (years) : -inf_to_28.5 THEN probability of diabetes: 11.6% (6.5%-17.8%)\n",
    "ELSE probability of diabetes: 36.9% (28.2%-46.1%)\n",
    "=================================================\n",
    "\n",
    "RandomForestClassifier Accuracy: 0.7135416666666666\n",
    "\"\"\""
   ]
  }
 ],
 "metadata": {
  "kernelspec": {
   "display_name": "Python 3",
   "language": "python",
   "name": "python3"
  },
  "language_info": {
   "codemirror_mode": {
    "name": "ipython",
    "version": 3
   },
   "file_extension": ".py",
   "mimetype": "text/x-python",
   "name": "python",
   "nbconvert_exporter": "python",
   "pygments_lexer": "ipython3",
   "version": "3.7.0"
  }
 },
 "nbformat": 4,
 "nbformat_minor": 2
}
